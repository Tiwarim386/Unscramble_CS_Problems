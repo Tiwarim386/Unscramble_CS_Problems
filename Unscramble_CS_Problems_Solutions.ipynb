{
  "nbformat": 4,
  "nbformat_minor": 0,
  "metadata": {
    "colab": {
      "name": "Unscramble CS Problems Solutions",
      "provenance": []
    },
    "kernelspec": {
      "name": "python3",
      "display_name": "Python 3"
    }
  },
  "cells": [
    {
      "cell_type": "code",
      "metadata": {
        "id": "3K539IWi48eG",
        "colab_type": "code",
        "colab": {
          "base_uri": "https://localhost:8080/",
          "height": 52
        },
        "outputId": "8d77a6f3-f50f-45d2-eb04-8cb3475e327b"
      },
      "source": [
        "import csv\n",
        "with open('texts.csv', 'r') as f:\n",
        "    reader = csv.reader(f)\n",
        "    texts = list(reader)\n",
        "\n",
        "with open('calls.csv', 'r') as f:\n",
        "    reader = csv.reader(f)\n",
        "    calls = list(reader)\n",
        "\n",
        "print(\"First record of texts, {} texts {} at time {}\"\n",
        "      .format(texts[0][0], texts[0][1], texts[0][2]))\n",
        "print(\"Last record of calls, {} calls {} at time {}, lasting {} seconds\"\n",
        "      .format(calls[-1][0], calls[-1][1], calls[-1][2], calls[-1][3]))\n",
        "\n"
      ],
      "execution_count": 8,
      "outputs": [
        {
          "output_type": "stream",
          "text": [
            "First record of texts, 97424 22395 texts 90365 06212 at time 01-09-2016 06:03:22\n",
            "Last record of calls, 98447 62998 calls (080)46304537 at time 30-09-2016 23:57:15, lasting 2151 seconds\n"
          ],
          "name": "stdout"
        }
      ]
    },
    {
      "cell_type": "code",
      "metadata": {
        "id": "5cHsFNfX5tlD",
        "colab_type": "code",
        "colab": {
          "base_uri": "https://localhost:8080/",
          "height": 34
        },
        "outputId": "5de102ac-8fc3-48b0-d646-f7da87e04976"
      },
      "source": [
        "\n",
        "import csv\n",
        "with open('texts.csv', 'r') as f:\n",
        "    reader = csv.reader(f)\n",
        "    texts = list(reader)\n",
        "\n",
        "with open('calls.csv', 'r') as f:\n",
        "    reader = csv.reader(f)\n",
        "    calls = list(reader)\n",
        "\n",
        "telephone_numbers = set()\n",
        "\n",
        "for i in range(len(texts)):\n",
        "    telephone_numbers.add(texts[i][0])\n",
        "    telephone_numbers.add(texts[i][1])\n",
        "    \n",
        "for i in range(len(calls)):\n",
        "    telephone_numbers.add(calls[i][0])\n",
        "    telephone_numbers.add(calls[i][1])\n",
        "\n",
        "print(\"There are {} different telephone numbers in the records.\".format(\n",
        "    len(telephone_numbers)))\n"
      ],
      "execution_count": 9,
      "outputs": [
        {
          "output_type": "stream",
          "text": [
            "There are 570 different telephone numbers in the records.\n"
          ],
          "name": "stdout"
        }
      ]
    },
    {
      "cell_type": "code",
      "metadata": {
        "id": "umrKop2O5yhd",
        "colab_type": "code",
        "colab": {
          "base_uri": "https://localhost:8080/",
          "height": 34
        },
        "outputId": "cad29ffa-6227-41f2-853b-14bc41d1a1b1"
      },
      "source": [
        "\n",
        "from datetime import datetime\n",
        "\n",
        "import csv\n",
        "with open('texts.csv', 'r') as f:\n",
        "    reader = csv.reader(f)\n",
        "    texts = list(reader)\n",
        "\n",
        "with open('calls.csv', 'r') as f:\n",
        "    reader = csv.reader(f)\n",
        "    calls = list(reader)\n",
        "\n",
        "def getCallsByMonthYear(phoneCall, month, year):\n",
        "\n",
        "    timestamp = phoneCall[2]\n",
        "    dt = datetime.strptime(timestamp, '%d-%m-%Y %H:%M:%S')\n",
        "    if(dt.year == year and dt.month == month):\n",
        "        return True\n",
        "    else:\n",
        "        return False\n",
        "\n",
        "\n",
        "def trackCallDuration(dictionary, phoneNumber, callDuration):\n",
        "    if(dictionary.get(phoneNumber) == None):\n",
        "        dictionary[phoneNumber] = callDuration\n",
        "    else:\n",
        "        dictionary[phoneNumber] = int(\n",
        "            dictionary.get(phoneNumber)) + int(callDuration)\n",
        "    return dictionary\n",
        "\n",
        "records = filter(lambda x: getCallsByMonthYear(x, 9, 2016), calls)\n",
        "\n",
        "\n",
        "dictionary = {}\n",
        "for record in records:\n",
        "    outgoingNumber = record[0]\n",
        "    recievingNumber = record[1]\n",
        "    timestamp = record[2]\n",
        "    callDuration = record[3]\n",
        "\n",
        "    dictionary = trackCallDuration(dictionary, outgoingNumber, callDuration)\n",
        "    dictionary = trackCallDuration(dictionary, recievingNumber, callDuration)\n",
        "\n",
        "\n",
        "phoneMax = max(dictionary.items(), key=lambda x: int(x[1]))\n",
        "\n",
        "\n",
        "\n",
        "print(f\"{phoneMax[0]} spent the longest time, {phoneMax[1]} seconds, on the phone during September 2016.\")\n"
      ],
      "execution_count": 10,
      "outputs": [
        {
          "output_type": "stream",
          "text": [
            "(080)33251027 spent the longest time, 90456 seconds, on the phone during September 2016.\n"
          ],
          "name": "stdout"
        }
      ]
    },
    {
      "cell_type": "code",
      "metadata": {
        "id": "c30KvB-f582-",
        "colab_type": "code",
        "colab": {
          "base_uri": "https://localhost:8080/",
          "height": 745
        },
        "outputId": "e9e5a356-83e2-43e9-8e04-3d4709d17f3b"
      },
      "source": [
        "\n",
        "import csv\n",
        "\n",
        "with open('texts.csv', 'r') as f:\n",
        "    reader = csv.reader(f)\n",
        "    texts = list(reader)\n",
        "\n",
        "with open('calls.csv', 'r') as f:\n",
        "    reader = csv.reader(f)\n",
        "    calls = list(reader)\n",
        "\n",
        "# Implementing Part A\n",
        "called_numbers = []\n",
        "for i in range(len(calls)):\n",
        "    if calls[i][0][:5] == '(080)':\n",
        "        if calls[i][1][0] == '(':\n",
        "            par_index = calls[i][1].find(')')\n",
        "            called_numbers.append(calls[i][1][:par_index+1])\n",
        "        elif calls[i][1][:3] == '140':\n",
        "            called_numbers.append('140')\n",
        "        else:\n",
        "            called_numbers.append(calls[i][1][:4])\n",
        "\n",
        "l = len(called_numbers)\n",
        "count = called_numbers.count('(080)')\n",
        "called_numbers = sorted(set(called_numbers))\n",
        "print(\"The numbers called by people in Bangalore have codes:\")\n",
        "for code in called_numbers:\n",
        "    print(code)\n",
        "\n",
        "    \n",
        "    \n",
        "# Implementing Part B\n",
        "\n",
        "percent = count * 100 / l\n",
        "print(\"{} percent of calls from fixed lines in Bangalore are calls to other fixed lines in Bangalore.\".format(round(percent, 2)))\n",
        "    \n"
      ],
      "execution_count": 11,
      "outputs": [
        {
          "output_type": "stream",
          "text": [
            "The numbers called by people in Bangalore have codes:\n",
            "(022)\n",
            "(040)\n",
            "(04344)\n",
            "(044)\n",
            "(04546)\n",
            "(0471)\n",
            "(080)\n",
            "(0821)\n",
            "7406\n",
            "7795\n",
            "7813\n",
            "7829\n",
            "8151\n",
            "8152\n",
            "8301\n",
            "8431\n",
            "8714\n",
            "9008\n",
            "9019\n",
            "9035\n",
            "9036\n",
            "9241\n",
            "9242\n",
            "9341\n",
            "9342\n",
            "9343\n",
            "9400\n",
            "9448\n",
            "9449\n",
            "9526\n",
            "9656\n",
            "9738\n",
            "9740\n",
            "9741\n",
            "9742\n",
            "9844\n",
            "9845\n",
            "9900\n",
            "9961\n",
            "24.81 percent of calls from fixed lines in Bangalore are calls to other fixed lines in Bangalore.\n"
          ],
          "name": "stdout"
        }
      ]
    },
    {
      "cell_type": "code",
      "metadata": {
        "id": "RXmNY3nl6ZsF",
        "colab_type": "code",
        "colab": {
          "base_uri": "https://localhost:8080/",
          "height": 798
        },
        "outputId": "97839bd3-10b8-4935-bcf1-dcb24d1d6d91"
      },
      "source": [
        "\n",
        "import csv\n",
        "from itertools import chain\n",
        "with open('texts.csv', 'r') as f:\n",
        "    reader = csv.reader(f)\n",
        "    texts = list(reader)\n",
        "\n",
        "with open('calls.csv', 'r') as f:\n",
        "    reader = csv.reader(f)\n",
        "    calls = list(reader)\n",
        "\n",
        "\n",
        "telephone_numbers_in_texts = list(chain.from_iterable(\n",
        "    [(sender, reciever) for sender, reciever, _ in texts]))\n",
        "\n",
        "texters = set(telephone_numbers_in_texts)\n",
        "\n",
        "callers = set()\n",
        "call_recievers = set()\n",
        "\n",
        "for caller, reciever, _, _ in calls:\n",
        "    callers.add(caller)\n",
        "    call_recievers.add(reciever)\n",
        "\n",
        "# Since telemarkerters don't text or recieve callers\n",
        "\n",
        "possible_telemarkerters = callers - (texters | call_recievers)\n",
        "\n",
        "print(\"These numbers could be telemarketers:\")\n",
        "\n",
        "for tel_number in sorted(possible_telemarkerters):\n",
        "    print(tel_number)\n",
        "\n"
      ],
      "execution_count": 12,
      "outputs": [
        {
          "output_type": "stream",
          "text": [
            "These numbers could be telemarketers:\n",
            "(022)37572285\n",
            "(022)65548497\n",
            "(022)68535788\n",
            "(022)69042431\n",
            "(040)30429041\n",
            "(044)22020822\n",
            "(0471)2171438\n",
            "(0471)6579079\n",
            "(080)20383942\n",
            "(080)25820765\n",
            "(080)31606520\n",
            "(080)40362016\n",
            "(080)60463379\n",
            "(080)60998034\n",
            "(080)62963633\n",
            "(080)64015211\n",
            "(080)69887826\n",
            "(0821)3257740\n",
            "1400481538\n",
            "1401747654\n",
            "1402316533\n",
            "1403072432\n",
            "1403579926\n",
            "1404073047\n",
            "1404368883\n",
            "1404787681\n",
            "1407539117\n",
            "1408371942\n",
            "1408409918\n",
            "1408672243\n",
            "1409421631\n",
            "1409668775\n",
            "1409994233\n",
            "74064 66270\n",
            "78291 94593\n",
            "87144 55014\n",
            "90351 90193\n",
            "92414 69419\n",
            "94495 03761\n",
            "97404 30456\n",
            "97407 84573\n",
            "97442 45192\n",
            "99617 25274\n"
          ],
          "name": "stdout"
        }
      ]
    }
  ]
}